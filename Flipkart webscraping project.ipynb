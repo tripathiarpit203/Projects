{
 "cells": [
  {
   "cell_type": "code",
   "execution_count": 51,
   "id": "7a7282e0",
   "metadata": {},
   "outputs": [],
   "source": [
    "from bs4 import BeautifulSoup\n",
    "import requests\n",
    "import time\n",
    "import datetime\n",
    "import smtplib"
   ]
  },
  {
   "cell_type": "code",
   "execution_count": 52,
   "id": "65cc3f78",
   "metadata": {},
   "outputs": [
    {
     "name": "stdout",
     "output_type": "stream",
     "text": [
      "\n",
      "            boAt BassHeads 900 Wired Headset\n",
      "            \n",
      "            (Carbon Black, On the Ear)\n",
      "           \n",
      "\n",
      "             ₹849\n",
      "            \n"
     ]
    }
   ],
   "source": [
    "URL = 'https://www.flipkart.com/boat-bassheads-900-wired-headset/p/itm1f5b43896a3b5'\n",
    "\n",
    "headers = {\"User-Agent\": \"Mozilla/5.0 (Windows NT 10.0; Win64; x64) AppleWebKit/537.36 (KHTML, like Gecko) Chrome/126.0.0.0 Safari/537.36 Edg/126.0.0.0\", \"Accept-Encoding\":\"gzip, deflate\", \"Accept\":\"text/html,application/xhtml+xml,application/xml;q=0.9,*/*;q=0.8\", \"DNT\":\"1\",\"Connection\":\"close\", \"Upgrade-Insecure-Requests\":\"1\"}\n",
    "\n",
    "page = requests.get(URL, headers=headers)\n",
    "\n",
    "soup1 = BeautifulSoup(page.content, \"html.parser\")\n",
    "soup2 = BeautifulSoup(soup1.prettify(), \"html.parser\")\n",
    "\n",
    "title = soup2.find( class_ = 'VU-ZEz').get_text()\n",
    "price = soup2.find(class_ = 'Nx9bqj CxhGGd').get_text()\n",
    "\n",
    "\n",
    "print(title)\n",
    "print(price)"
   ]
  },
  {
   "cell_type": "code",
   "execution_count": 53,
   "id": "ff900181",
   "metadata": {},
   "outputs": [
    {
     "name": "stdout",
     "output_type": "stream",
     "text": [
      "boAt BassHeads 900 Wired Headset\n",
      "            \n",
      "            (Carbon Black, On the Ear) 849 2024-07-09\n"
     ]
    }
   ],
   "source": [
    "title = title.strip()\n",
    "price = price.strip()[1:]\n",
    "today = datetime.date.today()\n",
    "\n",
    "print(title, price, today)"
   ]
  },
  {
   "cell_type": "code",
   "execution_count": 54,
   "id": "c555332c",
   "metadata": {},
   "outputs": [],
   "source": [
    "import csv\n",
    "\n",
    "header = ['title', 'price', 'date']\n",
    "data   = [title, price, today]\n",
    "\n",
    "with open('flipkart_boatHeadphone900.csv', 'w', newline='', encoding='UTF8') as f:\n",
    "    writer = csv.writer(f)\n",
    "    writer.writerow(header)\n",
    "    writer.writerow(data)\n",
    "    "
   ]
  },
  {
   "cell_type": "code",
   "execution_count": 55,
   "id": "b66894de",
   "metadata": {},
   "outputs": [
    {
     "name": "stdout",
     "output_type": "stream",
     "text": [
      "                                               title  price        date\n",
      "0  boAt BassHeads 900 Wired Headset\\n            ...    849  2024-07-09\n"
     ]
    }
   ],
   "source": [
    "import pandas as pd\n",
    "df = pd.read_csv(r'C:\\Users\\Admin\\Documents\\Untitled Folder\\Untitled Folder\\flipkart_boatHeadphone900.csv')\n",
    "\n",
    "print(df)"
   ]
  },
  {
   "cell_type": "code",
   "execution_count": 61,
   "id": "b5de8e44",
   "metadata": {},
   "outputs": [],
   "source": [
    "with open('flipkart_boatHeadphone900.csv', 'a+', newline='', encoding='UTF8') as f:\n",
    "    writer = csv.writer(f)\n",
    "    writer.writerow(data)"
   ]
  },
  {
   "cell_type": "code",
   "execution_count": 71,
   "id": "45645427",
   "metadata": {},
   "outputs": [],
   "source": [
    "def checkPrice():\n",
    "    URL = 'https://www.flipkart.com/boat-bassheads-900-wired-headset/p/itm1f5b43896a3b5'\n",
    "    headers = {\"User-Agent\": \"Mozilla/5.0 (Windows NT 10.0; Win64; x64) AppleWebKit/537.36 (KHTML, like Gecko) Chrome/126.0.0.0 Safari/537.36 Edg/126.0.0.0\", \"Accept-Encoding\":\"gzip, deflate\", \"Accept\":\"text/html,application/xhtml+xml,application/xml;q=0.9,*/*;q=0.8\", \"DNT\":\"1\",\"Connection\":\"close\", \"Upgrade-Insecure-Requests\":\"1\"}\n",
    "    page = requests.get(URL, headers=headers)\n",
    "    soup1 = BeautifulSoup(page.content, \"html.parser\")\n",
    "    soup2 = BeautifulSoup(soup1.prettify(), \"html.parser\")\n",
    "    title = soup2.find( class_ = 'VU-ZEz').get_text()\n",
    "    price = soup2.find(class_ = 'Nx9bqj CxhGGd').get_text()\n",
    "\n",
    "    title = title.strip()\n",
    "    price = price.strip()[1:]\n",
    "    today = datetime.date.today()\n",
    "\n",
    "    header = ['title', 'price', 'date']\n",
    "    data   = [title, price, today]\n",
    "\n",
    "    with open('flipkart_boatHeadphone900.csv', 'a+', newline='', encoding='UTF8') as f:\n",
    "        writer = csv.writer(f)\n",
    "        writer.writerow(data)\n",
    "        \n",
    "    if(int(price) <590):\n",
    "        send_mail()\n"
   ]
  },
  {
   "cell_type": "code",
   "execution_count": 72,
   "id": "8e6a3d3d",
   "metadata": {},
   "outputs": [
    {
     "ename": "KeyboardInterrupt",
     "evalue": "",
     "output_type": "error",
     "traceback": [
      "\u001b[1;31m---------------------------------------------------------------------------\u001b[0m",
      "\u001b[1;31mKeyboardInterrupt\u001b[0m                         Traceback (most recent call last)",
      "Cell \u001b[1;32mIn[72], line 3\u001b[0m\n\u001b[0;32m      1\u001b[0m \u001b[38;5;28;01mwhile\u001b[39;00m(\u001b[38;5;28;01mTrue\u001b[39;00m):\n\u001b[0;32m      2\u001b[0m     checkPrice()\n\u001b[1;32m----> 3\u001b[0m     time\u001b[38;5;241m.\u001b[39msleep(\u001b[38;5;241m5\u001b[39m)\n",
      "\u001b[1;31mKeyboardInterrupt\u001b[0m: "
     ]
    }
   ],
   "source": [
    "while(True):\n",
    "    checkPrice()\n",
    "    time.sleep(5)"
   ]
  },
  {
   "cell_type": "code",
   "execution_count": 73,
   "id": "07fab3b0",
   "metadata": {},
   "outputs": [
    {
     "name": "stdout",
     "output_type": "stream",
     "text": [
      "                                               title  price        date\n",
      "0  boAt BassHeads 900 Wired Headset\\n            ...    849  2024-07-09\n",
      "1  boAt BassHeads 900 Wired Headset\\n            ...    849  2024-07-09\n",
      "2  boAt BassHeads 900 Wired Headset\\n            ...    849  2024-07-09\n",
      "3  boAt BassHeads 900 Wired Headset\\n            ...    849  2024-07-09\n",
      "4  boAt BassHeads 900 Wired Headset\\n            ...    849  2024-07-09\n",
      "5  boAt BassHeads 900 Wired Headset\\n            ...    849  2024-07-09\n",
      "6  boAt BassHeads 900 Wired Headset\\n            ...    849  2024-07-09\n",
      "7  boAt BassHeads 900 Wired Headset\\n            ...    849  2024-07-09\n",
      "8  boAt BassHeads 900 Wired Headset\\n            ...    849  2024-07-09\n"
     ]
    }
   ],
   "source": [
    "import pandas as pd\n",
    "df = pd.read_csv(r'C:\\Users\\Admin\\Documents\\Untitled Folder\\Untitled Folder\\flipkart_boatHeadphone900.csv')\n",
    "\n",
    "print(df)"
   ]
  },
  {
   "cell_type": "code",
   "execution_count": 67,
   "id": "913876db",
   "metadata": {},
   "outputs": [],
   "source": [
    "def send_mail():\n",
    "    server = smtplib.SMTP_SSL('smtp.gmail.com',465)\n",
    "    server.ehlo()\n",
    "    #server.starttls()\n",
    "    server.ehlo()\n",
    "    server.login('tripathiarpit203@gmail.com','xxxxxxxxxxx')\n",
    "    \n",
    "    subject = \"URGENT: discount on headphone\"\n",
    "    body = \"Arpit, This is the moment we have been waiting for. Now is your chance to pick up the headphone of your dreams. Don't mess it up! Link here:'https://www.flipkart.com/boat-bassheads-900-wired-headset/p/itm1f5b43896a3b5\" \n",
    "   \n",
    "    msg = f\"Subject: {subject}\\n\\n{body}\"\n",
    "    \n",
    "    server.sendmail(\n",
    "        'tripathiarpit203@gmail.com',\n",
    "        msg\n",
    "     \n",
    "    )"
   ]
  },
  {
   "cell_type": "code",
   "execution_count": null,
   "id": "35563cef",
   "metadata": {},
   "outputs": [],
   "source": []
  }
 ],
 "metadata": {
  "kernelspec": {
   "display_name": "Python 3 (ipykernel)",
   "language": "python",
   "name": "python3"
  },
  "language_info": {
   "codemirror_mode": {
    "name": "ipython",
    "version": 3
   },
   "file_extension": ".py",
   "mimetype": "text/x-python",
   "name": "python",
   "nbconvert_exporter": "python",
   "pygments_lexer": "ipython3",
   "version": "3.11.5"
  }
 },
 "nbformat": 4,
 "nbformat_minor": 5
}
