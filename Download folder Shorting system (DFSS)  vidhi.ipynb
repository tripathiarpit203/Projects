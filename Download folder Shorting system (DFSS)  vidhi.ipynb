{
 "cells": [
  {
   "cell_type": "markdown",
   "id": "36ee207d",
   "metadata": {},
   "source": [
    "DFSS : VIDHI"
   ]
  },
  {
   "cell_type": "code",
   "execution_count": 1,
   "id": "7acc33cf",
   "metadata": {},
   "outputs": [],
   "source": [
    "import os, shutil"
   ]
  },
  {
   "cell_type": "code",
   "execution_count": 2,
   "id": "98e55f74",
   "metadata": {},
   "outputs": [],
   "source": [
    "path = r'C:/Users/Admin/Downloads/'"
   ]
  },
  {
   "cell_type": "code",
   "execution_count": 3,
   "id": "b183160c",
   "metadata": {},
   "outputs": [],
   "source": [
    "fileName = os.listdir(path)"
   ]
  },
  {
   "cell_type": "code",
   "execution_count": 4,
   "id": "7e7bb879",
   "metadata": {},
   "outputs": [],
   "source": [
    "folderName = ['pic files', 'excel files', 'pdf files', 'video files', 'zip files', 'text files', 'exe files', 'docs files']\n",
    "\n",
    "for loop in range(0,8):\n",
    "    if not os.path.exists(path+ folderName[loop]):\n",
    "        os.makedirs(path+ folderName[loop])\n",
    "        \n",
    "for file in fileName:\n",
    "    if '.png' in file and not os.path.exists(path+ 'pic files/'+ file):\n",
    "        shutil.move(path+ file,path+ 'pic files/'+ file)\n",
    "    elif '.jpg' in file and not os.path.exists(path+ 'pic files/'+ file):\n",
    "        shutil.move(path+ file,path+ 'pic files/'+ file)\n",
    "    elif '.webp' in file and not os.path.exists(path+ 'pic files/'+ file):\n",
    "        shutil.move(path+ file,path+ 'pic files/'+ file)\n",
    "    elif '.jpeg' in file and not os.path.exists(path+ 'pic files/'+ file):\n",
    "        shutil.move(path+ file,path+ 'pic files/'+ file)\n",
    "    elif '.pdf' in file and not os.path.exists(path+ 'pdf files/'+ file):\n",
    "        shutil.move(path+ file,path+ 'pdf files/'+ file)\n",
    "    elif '.csv' in file and not os.path.exists(path+ 'excel files/'+ file):\n",
    "        shutil.move(path+ file,path+ 'excel files/'+ file)\n",
    "    elif '.xlsx' in file and not os.path.exists(path+ 'excel files/'+ file):\n",
    "        shutil.move(path+ file,path+ 'excel files/'+ file)\n",
    "    elif '.xls' in file and not os.path.exists(path+ 'excel files/'+ file):\n",
    "        shutil.move(path+ file,path+ 'excel files/'+ file)\n",
    "    elif '.rar' in file and not os.path.exists(path+ 'zip files/'+ file):\n",
    "        shutil.move(path+ file,path+ 'zip files/'+ file)\n",
    "    elif '.zip' in file and not os.path.exists(path+ 'zip files/'+ file):\n",
    "        shutil.move(path+ file,path+ 'zip files/'+ file)\n",
    "    elif '.mp4' in file and not os.path.exists(path+ 'video files/'+ file):\n",
    "        shutil.move(path+ file,path+ 'video files/'+ file)\n",
    "    elif '.txt' in file and not os.path.exists(path+ 'text files/'+ file):\n",
    "        shutil.move(path+ file,path+ 'text files/'+ file)\n",
    "    elif '.docx' in file and not os.path.exists(path+ 'docs files/'+ file):\n",
    "        shutil.move(path+ file,path+ 'docs files/'+ file)\n",
    "    elif '.exe' in file and not os.path.exists(path+ 'exe files/'+ file):\n",
    "        shutil.move(path+ file,path+ 'exe files/'+ file)\n",
    "    \n",
    "    \n",
    "    \n",
    "       \n",
    " "
   ]
  },
  {
   "cell_type": "code",
   "execution_count": null,
   "id": "ff5afb1d",
   "metadata": {},
   "outputs": [],
   "source": []
  }
 ],
 "metadata": {
  "kernelspec": {
   "display_name": "Python 3 (ipykernel)",
   "language": "python",
   "name": "python3"
  },
  "language_info": {
   "codemirror_mode": {
    "name": "ipython",
    "version": 3
   },
   "file_extension": ".py",
   "mimetype": "text/x-python",
   "name": "python",
   "nbconvert_exporter": "python",
   "pygments_lexer": "ipython3",
   "version": "3.11.5"
  }
 },
 "nbformat": 4,
 "nbformat_minor": 5
}
